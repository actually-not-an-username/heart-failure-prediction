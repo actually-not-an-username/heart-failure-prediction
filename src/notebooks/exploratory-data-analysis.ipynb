{
 "cells": [
  {
   "cell_type": "markdown",
   "metadata": {},
   "source": [
    "### IMPORTANT: this notebook depends on the results from data_cleaning_heart_failure execution\n",
    "\n",
    "The execution of the notebook `data_cleaning_heart_failure` will produce a csv file called `heart_clean.csv` which is the primary input for this exploratory data analysis\n",
    "\n",
    "***"
   ]
  }
 ],
 "metadata": {
  "language_info": {
   "name": "python"
  }
 },
 "nbformat": 4,
 "nbformat_minor": 2
}
